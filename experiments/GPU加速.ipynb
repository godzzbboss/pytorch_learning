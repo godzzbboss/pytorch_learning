{
 "cells": [
  {
   "cell_type": "markdown",
   "metadata": {},
   "source": [
    "# 单GPU加速\n",
    "在单核CPU上，矩阵运算会被产开成循环的形式，本质上还是串行执行。GPU的众核体系结构可将矩阵运算并行化执行，大幅缩短计算时间。\n",
    "***\n",
    "device = torch.device('cuda:0' if torch.cuda.is_available() else 'cpu')  \n",
    "model.to(device)\n",
    "# 多GPU加速\n",
    "- 单机多GPU\n",
    "使用torch.nn.DataParallel\n",
    "- 多机多GPU\n",
    "使用torch.DistributedParallel  \n",
    "***\n",
    "如果有多个GPU,可以设置torch可以检测到的gpu:  \n",
    "os.environ['CUDA_VISIBLE_DEVICES'] = ','.join(map(str,[0,1,2])) // 编号0,1,2GPU可见  \n",
    "model = torch.nn.DataParallel(model)"
   ]
  },
  {
   "cell_type": "code",
   "execution_count": 3,
   "metadata": {
    "ExecuteTime": {
     "end_time": "2020-01-12T06:24:15.341473Z",
     "start_time": "2020-01-12T06:24:15.329473Z"
    }
   },
   "outputs": [
    {
     "name": "stdout",
     "output_type": "stream",
     "text": [
      "GPU是否可以使用： True\n",
      "可用GPU数量： 1\n"
     ]
    }
   ],
   "source": [
    "import torch\n",
    "\n",
    "print('GPU是否可以使用：',torch.cuda.is_available())\n",
    "print('可用GPU数量：',torch.cuda.device_count())"
   ]
  }
 ],
 "metadata": {
  "kernelspec": {
   "display_name": "Python 3",
   "language": "python",
   "name": "python3"
  },
  "language_info": {
   "codemirror_mode": {
    "name": "ipython",
    "version": 3
   },
   "file_extension": ".py",
   "mimetype": "text/x-python",
   "name": "python",
   "nbconvert_exporter": "python",
   "pygments_lexer": "ipython3",
   "version": "3.6.3"
  },
  "toc": {
   "base_numbering": 1,
   "nav_menu": {},
   "number_sections": true,
   "sideBar": true,
   "skip_h1_title": false,
   "title_cell": "Table of Contents",
   "title_sidebar": "Contents",
   "toc_cell": false,
   "toc_position": {},
   "toc_section_display": true,
   "toc_window_display": false
  },
  "varInspector": {
   "cols": {
    "lenName": 16,
    "lenType": 16,
    "lenVar": 40
   },
   "kernels_config": {
    "python": {
     "delete_cmd_postfix": "",
     "delete_cmd_prefix": "del ",
     "library": "var_list.py",
     "varRefreshCmd": "print(var_dic_list())"
    },
    "r": {
     "delete_cmd_postfix": ") ",
     "delete_cmd_prefix": "rm(",
     "library": "var_list.r",
     "varRefreshCmd": "cat(var_dic_list()) "
    }
   },
   "types_to_exclude": [
    "module",
    "function",
    "builtin_function_or_method",
    "instance",
    "_Feature"
   ],
   "window_display": false
  }
 },
 "nbformat": 4,
 "nbformat_minor": 2
}
