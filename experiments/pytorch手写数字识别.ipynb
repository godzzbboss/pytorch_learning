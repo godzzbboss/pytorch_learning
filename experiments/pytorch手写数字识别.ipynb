{
 "cells": [
  {
   "cell_type": "code",
   "execution_count": 144,
   "metadata": {
    "ExecuteTime": {
     "end_time": "2020-01-09T07:37:43.326473Z",
     "start_time": "2020-01-09T07:37:43.320473Z"
    },
    "collapsed": true
   },
   "outputs": [],
   "source": [
    "# 导入必要模块\n",
    "import torch\n",
    "import numpy as np\n",
    "from torchvision.datasets import mnist # 导入pytorch内置的minist数据集\n",
    "import torchvision.transforms as transforms # 导入预处理模块\n",
    "from torch.utils.data import DataLoader\n",
    "import torch.nn as nn\n",
    "import torch.nn.functional as F\n",
    "import torch.optim as optim"
   ]
  },
  {
   "cell_type": "code",
   "execution_count": 143,
   "metadata": {
    "ExecuteTime": {
     "end_time": "2020-01-09T07:37:35.995473Z",
     "start_time": "2020-01-09T07:37:35.983473Z"
    },
    "collapsed": true
   },
   "outputs": [],
   "source": [
    "# 定义超参数\n",
    "TRAIN_BATCH_SIZE = 64\n",
    "TEST_BATCH_SIZE = 128\n",
    "LR = 0.01\n",
    "EPOCHES = 20\n",
    "momentum = 0.5"
   ]
  },
  {
   "cell_type": "code",
   "execution_count": 135,
   "metadata": {
    "ExecuteTime": {
     "end_time": "2020-01-08T14:59:34.829473Z",
     "start_time": "2020-01-08T14:59:34.787473Z"
    },
    "collapsed": true
   },
   "outputs": [],
   "source": [
    "# 下载数据并对数据进行预处理\n",
    "transform = transforms.Compose([transforms.ToTensor(), transforms.Normalize([0.5], [0.5])]) # 定义预处理函数,ToTensor将原始PIL图像[0,255]\n",
    "                                                                                            # 变为[0,1]，然后标准化到[-1,1]\n",
    "torch.manual_seed(100)\n",
    "train_dataset = mnist.MNIST(\"./data\", train=True, download=True, transform=transform)\n",
    "test_dataset = mnist.MNIST(\"./data\", train=False, download=True, transform=transform)\n",
    "# dataloader是可迭代对象\n",
    "train_loader = DataLoader(train_dataset, batch_size=TRAIN_BATCH_SIZE, shuffle=True)\n",
    "test_loader = DataLoader(test_dataset, batch_size=TEST_BATCH_SIZE, shuffle=False)"
   ]
  },
  {
   "cell_type": "code",
   "execution_count": 136,
   "metadata": {
    "ExecuteTime": {
     "end_time": "2020-01-08T14:59:35.840473Z",
     "start_time": "2020-01-08T14:59:35.460473Z"
    }
   },
   "outputs": [
    {
     "name": "stdout",
     "output_type": "stream",
     "text": [
      "torch.Size([128, 1, 28, 28])\n"
     ]
    },
    {
     "data": {
      "image/png": "[encoded data removed]",
      "text/plain": [
       "<matplotlib.figure.Figure at 0x1569ae80>"
      ]
     },
     "metadata": {},
     "output_type": "display_data"
    }
   ],
   "source": [
    "# 可视化原数据\n",
    "import matplotlib.pyplot as plt\n",
    "%matplotlib inline\n",
    "\n",
    "examples = enumerate(test_loader)\n",
    "batch_idx, (example_data, example_targets) = next(examples)\n",
    "fig = plt.figure()\n",
    "print(example_data.shape)\n",
    "for i in range(6):\n",
    "    plt.subplot(2, 3, i+1)\n",
    "    plt.tight_layout()\n",
    "    plt.imshow(example_data[i][0], cmap=\"gray\")\n",
    "    plt.title(\"ground truth:{}\".format(example_targets[i]))\n",
    "    plt.xticks([])\n",
    "    plt.yticks([])"
   ]
  },
  {
   "cell_type": "code",
   "execution_count": 137,
   "metadata": {
    "ExecuteTime": {
     "end_time": "2020-01-08T14:59:36.085473Z",
     "start_time": "2020-01-08T14:59:36.066473Z"
    },
    "collapsed": true
   },
   "outputs": [],
   "source": [
    "# 构建网络\n",
    "class Net(nn.Module):\n",
    "    def __init__(self, in_dim, hidden1_dim, hidden2_dim, out_dim):\n",
    "        super(Net, self).__init__()\n",
    "        self.layer1 = nn.Sequential(nn.Linear(in_dim, hidden1_dim), nn.BatchNorm1d(hidden1_dim))\n",
    "        self.layer2 = nn.Sequential(nn.Linear(hidden1_dim, hidden2_dim), nn.BatchNorm1d(hidden2_dim))\n",
    "        self.layer3 = nn.Sequential(nn.Linear(hidden2_dim, out_dim))\n",
    "    \n",
    "    def forward(self, x):\n",
    "        x = F.relu(self.layer1(x))\n",
    "        x = F.relu(self.layer2(x))\n",
    "        x = self.layer3(x)\n",
    "        return x\n",
    "        \n",
    "        "
   ]
  },
  {
   "cell_type": "code",
   "execution_count": 138,
   "metadata": {
    "ExecuteTime": {
     "end_time": "2020-01-08T14:59:37.199473Z",
     "start_time": "2020-01-08T14:59:37.173473Z"
    }
   },
   "outputs": [
    {
     "name": "stdout",
     "output_type": "stream",
     "text": [
      "cuda:0\n"
     ]
    }
   ],
   "source": [
    "# 实例化网络\n",
    "device = torch.device(\"cuda:0\" if torch.cuda.is_available() else \"cpu\")\n",
    "print(device)\n",
    "model = Net(28 * 28, 300, 100, 10)\n",
    "# model = model.to(device)\n",
    "model = model.cuda()\n",
    "\n",
    "# 定义损失函数和优化器\n",
    "criterion= nn.CrossEntropyLoss()\n",
    "optimizer = optim.SGD(model.parameters(), lr=LR, momentum=momentum)"
   ]
  },
  {
   "cell_type": "code",
   "execution_count": 139,
   "metadata": {
    "ExecuteTime": {
     "end_time": "2020-01-08T15:06:26.876473Z",
     "start_time": "2020-01-08T14:59:37.961473Z"
    }
   },
   "outputs": [
    {
     "name": "stdout",
     "output_type": "stream",
     "text": [
      "Epoch 1 is starting!\n",
      "epoch:1, Train_loss:1.0144, Trian_acc:0.7889 \n",
      "epoch:1, eval_loss:0.5483, eval_acc:0.8991 \n",
      "Epoch 2 is starting!\n",
      "epoch:2, Train_loss:0.4789, Trian_acc:0.9006 \n",
      "epoch:2, eval_loss:0.3564, eval_acc:0.9254 \n",
      "Epoch 3 is starting!\n",
      "epoch:3, Train_loss:0.3479, Trian_acc:0.9205 \n",
      "epoch:3, eval_loss:0.2696, eval_acc:0.9374 \n",
      "Epoch 4 is starting!\n",
      "epoch:4, Train_loss:0.2817, Trian_acc:0.9325 \n",
      "epoch:4, eval_loss:0.2310, eval_acc:0.9447 \n",
      "Epoch 5 is starting!\n",
      "epoch:5, Train_loss:0.2406, Trian_acc:0.9413 \n",
      "epoch:5, eval_loss:0.1985, eval_acc:0.9504 \n",
      "Epoch 6 is starting!\n",
      "epoch:6, Train_loss:0.2212, Trian_acc:0.9452 \n",
      "epoch:6, eval_loss:0.1947, eval_acc:0.9506 \n",
      "Epoch 7 is starting!\n",
      "epoch:7, Train_loss:0.2174, Trian_acc:0.9469 \n",
      "epoch:7, eval_loss:0.1943, eval_acc:0.9511 \n",
      "Epoch 8 is starting!\n",
      "epoch:8, Train_loss:0.2163, Trian_acc:0.9464 \n",
      "epoch:8, eval_loss:0.1908, eval_acc:0.9514 \n",
      "Epoch 9 is starting!\n",
      "epoch:9, Train_loss:0.2125, Trian_acc:0.9480 \n",
      "epoch:9, eval_loss:0.1877, eval_acc:0.9527 \n",
      "Epoch 10 is starting!\n",
      "epoch:10, Train_loss:0.2079, Trian_acc:0.9492 \n",
      "epoch:10, eval_loss:0.1838, eval_acc:0.9538 \n",
      "Epoch 11 is starting!\n",
      "epoch:11, Train_loss:0.2084, Trian_acc:0.9483 \n",
      "epoch:11, eval_loss:0.1853, eval_acc:0.9536 \n",
      "Epoch 12 is starting!\n",
      "epoch:12, Train_loss:0.2075, Trian_acc:0.9485 \n",
      "epoch:12, eval_loss:0.1850, eval_acc:0.9540 \n",
      "Epoch 13 is starting!\n",
      "epoch:13, Train_loss:0.2061, Trian_acc:0.9492 \n",
      "epoch:13, eval_loss:0.1862, eval_acc:0.9531 \n",
      "Epoch 14 is starting!\n",
      "epoch:14, Train_loss:0.2061, Trian_acc:0.9497 \n",
      "epoch:14, eval_loss:0.1846, eval_acc:0.9544 \n",
      "Epoch 15 is starting!\n",
      "epoch:15, Train_loss:0.2082, Trian_acc:0.9487 \n",
      "epoch:15, eval_loss:0.1836, eval_acc:0.9535 \n",
      "Epoch 16 is starting!\n",
      "epoch:16, Train_loss:0.2066, Trian_acc:0.9489 \n",
      "epoch:16, eval_loss:0.1854, eval_acc:0.9543 \n",
      "Epoch 17 is starting!\n",
      "epoch:17, Train_loss:0.2048, Trian_acc:0.9502 \n",
      "epoch:17, eval_loss:0.1853, eval_acc:0.9531 \n",
      "Epoch 18 is starting!\n",
      "epoch:18, Train_loss:0.2069, Trian_acc:0.9494 \n",
      "epoch:18, eval_loss:0.1848, eval_acc:0.9533 \n",
      "Epoch 19 is starting!\n",
      "epoch:19, Train_loss:0.2060, Trian_acc:0.9493 \n",
      "epoch:19, eval_loss:0.1845, eval_acc:0.9536 \n",
      "Epoch 20 is starting!\n",
      "epoch:20, Train_loss:0.2063, Trian_acc:0.9488 \n",
      "epoch:20, eval_loss:0.1860, eval_acc:0.9546 \n"
     ]
    }
   ],
   "source": [
    "# 训练模型\n",
    "# 保存每个epoch的训练误差和测试误差\n",
    "losses = []\n",
    "acces = []\n",
    "eval_losses = []\n",
    "eval_acces = []\n",
    "\n",
    "for epoch in range(EPOCHES):\n",
    "    print(\"Epoch {} is starting!\".format(epoch + 1))\n",
    "    train_loss = 0\n",
    "    train_acc = 0\n",
    "    model.train()\n",
    "    # 动态修改参数学习率\n",
    "    if epoch % 5 == 0:\n",
    "        optimizer.param_groups[0][\"lr\"] *= 0.1\n",
    "    for img, label in train_loader:\n",
    "#         img = img.to(device) # img的size:64x1x28x28\n",
    "#         label = label.to(device)\n",
    "        img = img.cuda()\n",
    "        label = label.cuda()\n",
    "        img = img.view(img.size(0), -1) # 64x28*28\n",
    "        \n",
    "        # 前向传播\n",
    "        out = model(img)\n",
    "        loss = criterion(out, label) # 一个batch的loss\n",
    "        # 反向传播, 反向传播前，需要将梯度清零，否则默认情况下梯度是累加的\n",
    "        optimizer.zero_grad()\n",
    "        loss.backward() # 计算梯度\n",
    "        optimizer.step() # 执行优化\n",
    "        # 记录每次迭代的误差\n",
    "        train_loss += loss.item() # loss.item()为每个batch的损失\n",
    "        # 计算分类准确率\n",
    "        _, pred = out.max(1)\n",
    "        correct_nums = (pred == label).sum().item() # 每次迭代,分类正确的样本数\n",
    "        acc = correct_nums / img.shape[0] # 每个batch的平均准确性\n",
    "        train_acc += acc\n",
    "    losses.append(train_loss / len(train_loader)) # len(train_loader)返回的是每个epoch含有多少次迭代，即多少个batch\n",
    "    acces.append(train_acc / len(train_loader))\n",
    "    \n",
    "    # 训练完一个epoch后，在测试集上检测效果\n",
    "    eval_loss = 0\n",
    "    eval_acc = 0\n",
    "    model.eval() # 模型改为预测模式,会把所有training属性设置为False\n",
    "    for img, label in test_loader:\n",
    "#         img = img.to(device)\n",
    "#         label = label.to(device)\n",
    "        img = img.cuda()\n",
    "        label = label.cuda()\n",
    "        img = img.view(img.shape[0], -1)\n",
    "        out = model(img)\n",
    "        loss = criterion(out, label)\n",
    "        # 记录误差\n",
    "        eval_loss += loss.item()\n",
    "        _, pred = out.max(1)\n",
    "        correct_nums = (pred == label).sum().item()\n",
    "        eval_acc += (correct_nums / img.shape[0])\n",
    "\n",
    "    eval_losses.append(eval_loss / len(test_loader))\n",
    "    eval_acces.append(eval_acc / len(test_loader))\n",
    "    \n",
    "    print(\"epoch:{}, Train_loss:{:.4f}, Trian_acc:{:.4f} \".format(epoch + 1, train_loss / len(train_loader), train_acc / len(train_loader)))\n",
    "    print(\"epoch:{}, eval_loss:{:.4f}, eval_acc:{:.4f} \".format(epoch + 1, eval_loss / len(test_loader), eval_acc / len(test_loader)))\n",
    "        "
   ]
  },
  {
   "cell_type": "code",
   "execution_count": 141,
   "metadata": {
    "ExecuteTime": {
     "end_time": "2020-01-08T15:18:39.655473Z",
     "start_time": "2020-01-08T15:18:39.506473Z"
    }
   },
   "outputs": [
    {
     "data": {
      "text/plain": [
       "<matplotlib.legend.Legend at 0x15c85e48>"
      ]
     },
     "execution_count": 141,
     "metadata": {},
     "output_type": "execute_result"
    },
    {
     "data": {
      "image/png": "[encoded data removed]",
      "text/plain": [
       "<matplotlib.figure.Figure at 0x16dbde48>"
      ]
     },
     "metadata": {},
     "output_type": "display_data"
    }
   ],
   "source": [
    "f1, = plt.plot(losses)\n",
    "f2, = plt.plot(eval_losses)\n",
    "plt.legend([f1, f2], [\"train\", \"eval\"])"
   ]
  },
  {
   "cell_type": "markdown",
   "metadata": {},
   "source": [
    "# 动态修改优化器参数\n",
    "修改优化器参数可以通过修改optimizer.params_groups或新建optimizer。\n",
    "- optimizer.params_groups是长度为1的list,元素是一个字典，字典的键为优化器的各个参数。"
   ]
  }
 ],
 "metadata": {
  "kernelspec": {
   "display_name": "Python 3",
   "language": "python",
   "name": "python3"
  },
  "language_info": {
   "codemirror_mode": {
    "name": "ipython",
    "version": 3
   },
   "file_extension": ".py",
   "mimetype": "text/x-python",
   "name": "python",
   "nbconvert_exporter": "python",
   "pygments_lexer": "ipython3",
   "version": "3.6.9"
  },
  "toc": {
   "base_numbering": 1,
   "nav_menu": {},
   "number_sections": true,
   "sideBar": true,
   "skip_h1_title": false,
   "title_cell": "Table of Contents",
   "title_sidebar": "Contents",
   "toc_cell": false,
   "toc_position": {},
   "toc_section_display": true,
   "toc_window_display": false
  },
  "varInspector": {
   "cols": {
    "lenName": 16,
    "lenType": 16,
    "lenVar": 40
   },
   "kernels_config": {
    "python": {
     "delete_cmd_postfix": "",
     "delete_cmd_prefix": "del ",
     "library": "var_list.py",
     "varRefreshCmd": "print(var_dic_list())"
    },
    "r": {
     "delete_cmd_postfix": ") ",
     "delete_cmd_prefix": "rm(",
     "library": "var_list.r",
     "varRefreshCmd": "cat(var_dic_list()) "
    }
   },
   "oldHeight": 531.4,
   "position": {
    "height": "40px",
    "left": "825.963px",
    "right": "20px",
    "top": "24.9625px",
    "width": "594px"
   },
   "types_to_exclude": [
    "module",
    "function",
    "builtin_function_or_method",
    "instance",
    "_Feature"
   ],
   "varInspector_section_display": "none",
   "window_display": true
  }
 },
 "nbformat": 4,
 "nbformat_minor": 2
}
