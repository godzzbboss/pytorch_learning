{
 "cells": [
  {
   "cell_type": "markdown",
   "metadata": {},
   "source": [
    "# numpy基础"
   ]
  },
  {
   "cell_type": "code",
   "execution_count": 2,
   "metadata": {
    "collapsed": true
   },
   "outputs": [],
   "source": [
    "import numpy as np"
   ]
  },
  {
   "cell_type": "markdown",
   "metadata": {},
   "source": [
    "## 在深度学习中，我们经常需要对一些参数进行初始化，此时需要用到np.random模块"
   ]
  },
  {
   "cell_type": "code",
   "execution_count": 11,
   "metadata": {},
   "outputs": [
    {
     "name": "stdout",
     "output_type": "stream",
     "text": [
      "[[0.9600173  0.69951205 0.99986729]\n",
      " [0.2200673  0.36105635 0.73984099]\n",
      " [0.99645573 0.31634698 0.13654458]]\n",
      "[[1.38398001 1.32051928 1.36641475]\n",
      " [1.70965156 1.90014243 1.53411544]\n",
      " [1.24729376 1.67180656 1.56172911]]\n",
      "[[ 0.9615384   0.1040112  -0.48116532]\n",
      " [ 0.85022853  1.45342467  1.05773744]\n",
      " [ 0.16556161  0.51501838 -1.33693569]]\n",
      "[[0.48603187 0.8072193  0.84422015]\n",
      " [0.53468087 0.75779805 0.49967689]\n",
      " [0.8503279  0.61969678 0.86161418]]\n",
      "[[1.00118488 2.34801251 1.78122233]\n",
      " [2.56286114 1.48745919 0.59363975]\n",
      " [1.0077771  2.67669018 2.08720091]]\n",
      "[[1.00118488 2.34801251 1.78122233]\n",
      " [2.56286114 1.48745919 0.59363975]\n",
      " [1.0077771  2.67669018 2.08720091]]\n"
     ]
    }
   ],
   "source": [
    "np.random.seed(24) # 设置随机种子\n",
    "a1 = np.random.random([3,3]) # 生成0-1之间的随机数\n",
    "a2 = np.random.uniform(low=1, high=2, size=[3,3]) # 生成均匀分布随机数\n",
    "a3 = np.random.randn(3,3) # 生成标准正态分布随机数\n",
    "a4 = np.random.rand(3,3) # 生成0-1均匀分布随机数\n",
    "a5 = np.random.normal(loc=2, scale=1, size=[3,3]) #生成正态分布随机数\n",
    "np.random.shuffle(a5) # 将a5原地随机打乱顺序\n",
    "\n",
    "print(a1,a2,a3,a4,a5, sep=\"\\n\")"
   ]
  },
  {
   "cell_type": "markdown",
   "metadata": {},
   "source": [
    "## 创建特定形状的多维数组"
   ]
  },
  {
   "cell_type": "code",
   "execution_count": 15,
   "metadata": {},
   "outputs": [
    {
     "data": {
      "text/plain": [
       "array([[1, 0, 0],\n",
       "       [0, 2, 0],\n",
       "       [0, 0, 3]])"
      ]
     },
     "execution_count": 15,
     "metadata": {},
     "output_type": "execute_result"
    }
   ],
   "source": [
    "b1 = np.zeros([3,4]) # 创建3x4全0数组\n",
    "b2 = np.ones([3,4]) # 创建3x4全1数组\n",
    "b3 = np.empty([3,4]) # 创建3x4空数组，空数组中的值是未初始化的垃圾值\n",
    "b4 = np.zeros_like(b1) # 创建形状与b1相同的全0数组\n",
    "b5 = np.ones_like(b2)\n",
    "b6 = np.empty_like(b3)\n",
    "b7 = np.eye(5) # 创建5x5单位矩阵\n",
    "b8 = np.full([3,4], 666) # 创建3x4的值全为666的矩阵\n",
    "b9 = np.diag([1,2,3]) # 对角元素为1,2,3的对角阵\n",
    "b9"
   ]
  },
  {
   "cell_type": "markdown",
   "metadata": {},
   "source": [
    "## 数组变形\n",
    "在机器学习以及深度学习中通常需要将处理好的数据以模型能够接受的格式输入给模型"
   ]
  },
  {
   "cell_type": "code",
   "execution_count": 55,
   "metadata": {
    "scrolled": true
   },
   "outputs": [
    {
     "name": "stdout",
     "output_type": "stream",
     "text": [
      "[[1.49610438e-01 9.78271450e-01]\n",
      " [4.09506116e-02 2.18705772e-04]\n",
      " [8.68306679e-01 1.06728342e-01]]\n",
      "[[1.49610438e-01]\n",
      " [9.78271450e-01]\n",
      " [4.09506116e-02]\n",
      " [2.18705772e-04]\n",
      " [8.68306679e-01]\n",
      " [1.06728342e-01]]\n",
      "[[[1.49610438e-01]\n",
      "  [9.78271450e-01]\n",
      "  [4.09506116e-02]]\n",
      "\n",
      " [[2.18705772e-04]\n",
      "  [8.68306679e-01]\n",
      "  [1.06728342e-01]]]\n",
      "[[[1.49610438e-01]\n",
      "  [2.18705772e-04]]\n",
      "\n",
      " [[9.78271450e-01]\n",
      "  [8.68306679e-01]]\n",
      "\n",
      " [[4.09506116e-02]\n",
      "  [1.06728342e-01]]]\n"
     ]
    }
   ],
   "source": [
    "a = np.random.random([2,3])\n",
    "a1 = a.reshape(3,2) # 将数组a的形状改变，不修改数组本身\n",
    "a.resize(3,2) # 修改数组本身\n",
    "print(a)\n",
    "a2 = a.ravel() # 将多维数组变成1维数组，数组元素按行序排列\n",
    "# a2 = a.ravel(\"F\") # 按列序排列\n",
    "a3 = a.flatten() # 将多维数组变成1维数组，数组元素按行序排列, 该操作经常出现在卷积网络与全连接层之间\n",
    "a3 = a3.reshape(-1, 1)\n",
    "print(a3)\n",
    "a4 = a3.squeeze() # 只对维数为1的维度降维\n",
    "a5 = a.reshape([2,3,1])\n",
    "print(a5)\n",
    "a6 = a5.transpose([1,0,2]) # 对高维矩阵进行轴变换\n",
    "print(a6)\n"
   ]
  },
  {
   "cell_type": "code",
   "execution_count": 40,
   "metadata": {
    "collapsed": true
   },
   "outputs": [],
   "source": [
    "target = torch.empty([5,3], dtype=torch.long)"
   ]
  },
  {
   "cell_type": "code",
   "execution_count": 45,
   "metadata": {},
   "outputs": [
    {
     "data": {
      "text/plain": [
       "torch.return_types.max(\n",
       "values=tensor([3.]),\n",
       "indices=tensor([2]))"
      ]
     },
     "execution_count": 45,
     "metadata": {},
     "output_type": "execute_result"
    }
   ],
   "source": [
    "a = torch.FloatTensor([[1,2,3]])\n",
    "torch.max(a, 1)"
   ]
  },
  {
   "cell_type": "code",
   "execution_count": null,
   "metadata": {
    "collapsed": true
   },
   "outputs": [],
   "source": []
  },
  {
   "cell_type": "markdown",
   "metadata": {},
   "source": [
    "# pytorch安装"
   ]
  },
  {
   "attachments": {},
   "cell_type": "markdown",
   "metadata": {},
   "source": [
    "## 安装gpu版本的pytorch\n",
    "1. 安装NVIDIA驱动https://www.nvidia.cn/Download/index.aspx?lang=cn\n",
    "![title](./img/nvidia.png)\n",
    "2. 安装完成后，在命令行输入nvidia-smi显示显卡基本信息 // linux系统下\n",
    "3. 安装CUDA，安装时需要与英伟达GPU驱动版本一致，保证CUDA可以找到显卡\n",
    "cuda(compute unified device architecture)是英伟达公司推出的一种基于新的并行编程模型的指令集架构的通用计算框架，\n",
    "它能够利用GPU的并行计算引擎。\n",
    "4. 安装cuDNN // 需要注册英伟达账号\n",
    "NVIDIA cuDNN是用于深度神经网络的GPU加速库\n",
    "5. 将cudnn解压之后的bin、include和lib文件夹拷贝到cuda目录下并进行替换\n",
    "6. 将cuda的bin目录添加到环境变量\n",
    "7. 在命令行使用nvcc -V查看是否安装成功\n",
    "8. 在cuda和cudnn安装成功之后，取pytorch官网安装相应的pytorch"
   ]
  },
  {
   "cell_type": "code",
   "execution_count": null,
   "metadata": {
    "collapsed": true
   },
   "outputs": [],
   "source": []
  }
 ],
 "metadata": {
  "kernelspec": {
   "display_name": "Python 3",
   "language": "python",
   "name": "python3"
  },
  "language_info": {
   "codemirror_mode": {
    "name": "ipython",
    "version": 3
   },
   "file_extension": ".py",
   "mimetype": "text/x-python",
   "name": "python",
   "nbconvert_exporter": "python",
   "pygments_lexer": "ipython3",
   "version": "3.6.3"
  },
  "toc": {
   "base_numbering": 1,
   "nav_menu": {},
   "number_sections": true,
   "sideBar": true,
   "skip_h1_title": false,
   "title_cell": "Table of Contents",
   "title_sidebar": "Contents",
   "toc_cell": false,
   "toc_position": {},
   "toc_section_display": true,
   "toc_window_display": false
  },
  "varInspector": {
   "cols": {
    "lenName": 16,
    "lenType": 16,
    "lenVar": 40
   },
   "kernels_config": {
    "python": {
     "delete_cmd_postfix": "",
     "delete_cmd_prefix": "del ",
     "library": "var_list.py",
     "varRefreshCmd": "print(var_dic_list())"
    },
    "r": {
     "delete_cmd_postfix": ") ",
     "delete_cmd_prefix": "rm(",
     "library": "var_list.r",
     "varRefreshCmd": "cat(var_dic_list()) "
    }
   },
   "types_to_exclude": [
    "module",
    "function",
    "builtin_function_or_method",
    "instance",
    "_Feature"
   ],
   "window_display": false
  }
 },
 "nbformat": 4,
 "nbformat_minor": 2
}
