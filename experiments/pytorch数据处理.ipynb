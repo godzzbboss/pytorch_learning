{
 "cells": [
  {
   "cell_type": "markdown",
   "metadata": {},
   "source": [
    "# 数据处理\n",
    "在pytorch中，主要有两个工具包涉及到数据处理：\n",
    "1. torch.utils.data\n",
    "2. torchvision\n",
    "![title](./img/dataprocess.png)\n",
    "\n"
   ]
  },
  {
   "cell_type": "markdown",
   "metadata": {
    "ExecuteTime": {
     "end_time": "2020-01-09T08:22:50.428473Z",
     "start_time": "2020-01-09T08:22:50.423473Z"
    },
    "collapsed": true
   },
   "source": [
    "# 数据可视化\n",
    "pytorch从1.2版本开始支持tensorboard，即使用pip install tensorboard安装tensorboard之后，可以通过  \n",
    "在命令行窗口输入：**tensorboard --logdir=logs --port 6006**  \n",
    "**import torch.utils.tensorboard import SummaryWrite**进行导入。  \n",
    "**注：在pytorch1.2版本之前都需要安装tensorboardX**\n",
    "***\n",
    "![title](./img/summarywriter.png)\n"
   ]
  },
  {
   "cell_type": "code",
   "execution_count": 27,
   "metadata": {
    "ExecuteTime": {
     "end_time": "2020-01-09T13:33:24.774473Z",
     "start_time": "2020-01-09T13:33:24.763473Z"
    },
    "collapsed": true
   },
   "outputs": [],
   "source": [
    "import torch\n",
    "import torchvision\n",
    "from torch.utils.tensorboard import SummaryWriter\n",
    "from torchvision import datasets, transforms"
   ]
  },
  {
   "cell_type": "markdown",
   "metadata": {},
   "source": [
    "## 使用tensorboard可视化神经网络"
   ]
  },
  {
   "cell_type": "code",
   "execution_count": 48,
   "metadata": {
    "ExecuteTime": {
     "end_time": "2020-01-09T14:13:55.938473Z",
     "start_time": "2020-01-09T14:13:55.812473Z"
    },
    "collapsed": true
   },
   "outputs": [],
   "source": [
    " # 构建神经网络\n",
    "import torch.nn as nn\n",
    "import torch.nn.functional as F\n",
    "# 假设网络的输入维度为CxHxW: 1x28x28\n",
    "class Net(nn.Module):\n",
    "    def __init__(self):\n",
    "        super(Net, self).__init__()\n",
    "        self.conv1 = nn.Conv2d(1, 10, kernel_size=5) # 默认stride=1\n",
    "        self.conv2 = nn.Conv2d(10, 20, kernel_size=5)\n",
    "        self.conv2_drop = nn.Dropout2d()\n",
    "        self.fc1 = nn.Linear(320, 50)\n",
    "        self.fc2 = nn.Linear(50, 10)\n",
    "        self.bn = nn.BatchNorm2d(20) # 20为输入的通道数\n",
    "        \n",
    "    def forward(self, x):\n",
    "        x = self.conv1(x) # 10x24x24\n",
    "        x = F.max_pool2d(x, 2) # 默认stride=kernel_size, 10x12x12\n",
    "        x = F.relu(x)\n",
    "        x = self.conv2(x) # 20x8x8\n",
    "        x = F.max_pool2d(x, 2) # 20x4x4\n",
    "        x = self.bn(x)\n",
    "        x = x.view(-1, 320)\n",
    "        x = self.fc1(x)\n",
    "        x = self.fc2(x)\n",
    "        x = F.softmax(x, dim=1)\n",
    "        return x\n",
    "\n",
    "# 定义输入\n",
    "inputs = torch.randn(32, 1, 28, 28)\n",
    "# print(inputs.shape)\n",
    "# 定义模型\n",
    "model = Net()\n",
    "with SummaryWriter(log_dir=\"./logs\", comment=\"Net\") as w:\n",
    "    w.add_graph(model, inputs)\n",
    "        "
   ]
  },
  {
   "cell_type": "markdown",
   "metadata": {
    "ExecuteTime": {
     "end_time": "2020-01-09T13:34:54.351473Z",
     "start_time": "2020-01-09T13:34:54.340473Z"
    }
   },
   "source": [
    "## 可视化损失值"
   ]
  },
  {
   "cell_type": "code",
   "execution_count": 57,
   "metadata": {
    "ExecuteTime": {
     "end_time": "2020-01-09T14:35:48.230473Z",
     "start_time": "2020-01-09T14:35:48.108473Z"
    },
    "collapsed": true
   },
   "outputs": [],
   "source": [
    "import numpy as np\n",
    "np.random.seed(100)\n",
    "dtype = torch.FloatTensor\n",
    "writer = SummaryWriter(log_dir=\"./logs/loss/\", comment=\"loss\")\n",
    "x = np.linspace(-1, 1, 100).reshape(-1, 1)\n",
    "y = 3*np.power(x, 2) + 2 + 0.2*np.random.randn(100,1)\n",
    "\n",
    "model = nn.Linear(1, 1)\n",
    "criterion = nn.MSELoss()\n",
    "optimizer = torch.optim.SGD(model.parameters(), lr=0.001)\n",
    "\n",
    "for epoch in range(80):\n",
    "    inputs = torch.from_numpy(x).type(dtype)\n",
    "    outputs = torch.from_numpy(y).type(dtype)\n",
    "    \n",
    "    preds = model(inputs)\n",
    "    loss = criterion(preds, outputs)\n",
    "    \n",
    "    optimizer.zero_grad()\n",
    "    loss.backward()\n",
    "    optimizer.step()\n",
    "    \n",
    "    # 保存每次迭代的损失\n",
    "    writer.add_scalar(\"loss\", loss, epoch)\n",
    "writer.close()"
   ]
  }
 ],
 "metadata": {
  "kernelspec": {
   "display_name": "Python 3",
   "language": "python",
   "name": "python3"
  },
  "language_info": {
   "codemirror_mode": {
    "name": "ipython",
    "version": 3
   },
   "file_extension": ".py",
   "mimetype": "text/x-python",
   "name": "python",
   "nbconvert_exporter": "python",
   "pygments_lexer": "ipython3",
   "version": "3.6.3"
  },
  "toc": {
   "base_numbering": 1,
   "nav_menu": {},
   "number_sections": true,
   "sideBar": true,
   "skip_h1_title": false,
   "title_cell": "Table of Contents",
   "title_sidebar": "Contents",
   "toc_cell": false,
   "toc_position": {},
   "toc_section_display": true,
   "toc_window_display": false
  },
  "varInspector": {
   "cols": {
    "lenName": 16,
    "lenType": 16,
    "lenVar": 40
   },
   "kernels_config": {
    "python": {
     "delete_cmd_postfix": "",
     "delete_cmd_prefix": "del ",
     "library": "var_list.py",
     "varRefreshCmd": "print(var_dic_list())"
    },
    "r": {
     "delete_cmd_postfix": ") ",
     "delete_cmd_prefix": "rm(",
     "library": "var_list.r",
     "varRefreshCmd": "cat(var_dic_list()) "
    }
   },
   "types_to_exclude": [
    "module",
    "function",
    "builtin_function_or_method",
    "instance",
    "_Feature"
   ],
   "window_display": false
  }
 },
 "nbformat": 4,
 "nbformat_minor": 2
}
